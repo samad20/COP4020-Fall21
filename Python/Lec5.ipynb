{
 "cells": [
  {
   "cell_type": "markdown",
   "source": [
    "# Python Functions"
   ],
   "metadata": {}
  },
  {
   "cell_type": "markdown",
   "source": [
    "* A function is a block of organized, reusable code that is used to perform a single, related action.\n",
    "* Functions provide better modularity for your application and a high degree of code reusing.\n",
    "* Python gives you many built-in functions like print(), etc. but you can also create your own functions. \n",
    "* These functions are called user-defined functions\n",
    "* You can pass data, known as parameters, into a function.\n",
    "* A function can return data as a result"
   ],
   "metadata": {}
  },
  {
   "cell_type": "markdown",
   "source": [
    "# Defining a Function"
   ],
   "metadata": {}
  },
  {
   "cell_type": "markdown",
   "source": [
    "* Simple rules to define a function in Python:\n",
    "    * Function blocks begin with the keyword def followed by the function name and parentheses ( ( ) ).\n",
    "    * Any input parameters or arguments should be placed within these parentheses. You can also define parameters inside these parentheses.\n",
    "    * The first statement of a function can be an optional statement - the documentation string of the function or docstring.\n",
    "    * The code block within every function starts with a colon (:) and is indented.\n",
    "    * The statement return [expression] exits a function, optionally passing back an expression to the caller. \n",
    "    * A return statement with no arguments is the same as return None"
   ],
   "metadata": {}
  },
  {
   "cell_type": "markdown",
   "source": [
    "## Syntax"
   ],
   "metadata": {}
  },
  {
   "cell_type": "markdown",
   "source": [
    "def functionname( parameters ):\n",
    "    \n",
    "    \"function_docstring\"\n",
    "    function_suite   \n",
    "    return [expression]\n",
    "\n",
    "* By default, parameters have a positional behavior, and you need to inform them in the same order that they were defined"
   ],
   "metadata": {}
  },
  {
   "cell_type": "markdown",
   "source": [
    "## Example"
   ],
   "metadata": {}
  },
  {
   "cell_type": "code",
   "execution_count": 17,
   "source": [
    "def my_function():\r\n",
    "  print(\"Hello from a function\")"
   ],
   "outputs": [],
   "metadata": {
    "id": "wodMCl8yeqh8"
   }
  },
  {
   "cell_type": "markdown",
   "source": [
    "# Calling a Function"
   ],
   "metadata": {}
  },
  {
   "cell_type": "markdown",
   "source": [
    "* Use the function name followed by parenthesis"
   ],
   "metadata": {}
  },
  {
   "cell_type": "markdown",
   "source": [
    "## Example"
   ],
   "metadata": {}
  },
  {
   "cell_type": "code",
   "execution_count": 18,
   "source": [
    "def my_function():\r\n",
    "  print(\"Hello from a function\")\r\n",
    "\r\n",
    "my_function()"
   ],
   "outputs": [
    {
     "output_type": "stream",
     "name": "stdout",
     "text": [
      "Hello from a function\n"
     ]
    }
   ],
   "metadata": {
    "colab": {
     "base_uri": "https://localhost:8080/"
    },
    "id": "DKO8xO7Be2KB",
    "outputId": "82beee10-9f98-4657-99ef-3e0dd3d52236"
   }
  },
  {
   "cell_type": "markdown",
   "source": [
    "# Arguments"
   ],
   "metadata": {}
  },
  {
   "cell_type": "markdown",
   "source": [
    "* Information can be passed into functions as arguments.\r\n",
    "* Arguments are specified after the function name, inside the parentheses. \r\n",
    "* You can add as many arguments as you want, just separate them with a comma.\r\n",
    "* You can call a function by using the following types of formal arguments: \r\n",
    "    * Required arguments\r\n",
    "    * Keyword arguments•Default arguments\r\n",
    "    * Variable-length arguments\r\n",
    "* This example has a function with one argument (fname). \r\n",
    "* When the function is called, we pass along a first name, which is used inside the function to print the full name:"
   ],
   "metadata": {}
  },
  {
   "cell_type": "markdown",
   "source": [
    "## Example"
   ],
   "metadata": {}
  },
  {
   "cell_type": "code",
   "execution_count": 19,
   "source": [
    "def my_function(fname):\r\n",
    "  print(fname + \" Refsnes\")\r\n",
    "\r\n",
    "my_function(\"Sam\")\r\n",
    "my_function(\"Dave\")\r\n",
    "my_function(\"Julia\")"
   ],
   "outputs": [
    {
     "output_type": "stream",
     "name": "stdout",
     "text": [
      "Sam Refsnes\n",
      "Dave Refsnes\n",
      "Julia Refsnes\n"
     ]
    }
   ],
   "metadata": {
    "colab": {
     "base_uri": "https://localhost:8080/"
    },
    "id": "Rpdg9w_eigNo",
    "outputId": "ad9517a3-d7df-466a-abd8-23df6eb7809b"
   }
  },
  {
   "cell_type": "markdown",
   "source": [
    "## Python Function with arguments"
   ],
   "metadata": {}
  },
  {
   "cell_type": "markdown",
   "source": [
    "### Example"
   ],
   "metadata": {}
  },
  {
   "cell_type": "code",
   "execution_count": 20,
   "source": [
    "# Function to check whether x is even or odd\r\n",
    "\r\n",
    "def evenOdd(x):\r\n",
    "\tif (x % 2 == 0):\r\n",
    "\t\tprint(\"even\")\r\n",
    "\telse:\r\n",
    "\t\tprint(\"odd\")\r\n",
    "\r\n",
    "# Driver code to call the function\r\n",
    "\r\n",
    "evenOdd(2)\r\n",
    "evenOdd(3)\r\n"
   ],
   "outputs": [
    {
     "output_type": "stream",
     "name": "stdout",
     "text": [
      "even\n",
      "odd\n"
     ]
    }
   ],
   "metadata": {
    "colab": {
     "base_uri": "https://localhost:8080/"
    },
    "id": "_v40uXGLinLM",
    "outputId": "cdd5641f-04ec-43d8-8cb5-0dfb6424c08a"
   }
  },
  {
   "cell_type": "markdown",
   "source": [
    "## Default arguments"
   ],
   "metadata": {}
  },
  {
   "cell_type": "markdown",
   "source": [
    "* A default argument is a parameter that assumes a default value if a value is not provided in the function call for that argument. \r\n",
    "* The following example illustrates Default arguments."
   ],
   "metadata": {}
  },
  {
   "cell_type": "markdown",
   "source": [
    "### Example"
   ],
   "metadata": {}
  },
  {
   "cell_type": "code",
   "execution_count": 21,
   "source": [
    "# Python program to demonstrate default arguments\r\n",
    "\r\n",
    "def myFun(x, y=50):\r\n",
    "\tprint(\"x: \", x)\r\n",
    "\tprint(\"y: \", y)\r\n",
    "\r\n",
    "\r\n",
    "# Driver code (We call myFun() with only argument)\r\n",
    "myFun(10)\r\n"
   ],
   "outputs": [
    {
     "output_type": "stream",
     "name": "stdout",
     "text": [
      "x:  10\n",
      "y:  50\n"
     ]
    }
   ],
   "metadata": {
    "colab": {
     "base_uri": "https://localhost:8080/"
    },
    "id": "VwPqsVCymYT1",
    "outputId": "f10bbbf8-ee1a-444e-e788-5f82765b0e27"
   }
  },
  {
   "cell_type": "markdown",
   "source": [
    "## Keyword arguments"
   ],
   "metadata": {}
  },
  {
   "cell_type": "markdown",
   "source": [
    "* The idea is to allow the caller to specify the argument name with values so that caller does not need to remember the order of parameters."
   ],
   "metadata": {}
  },
  {
   "cell_type": "markdown",
   "source": [
    "### Example"
   ],
   "metadata": {}
  },
  {
   "cell_type": "code",
   "execution_count": 22,
   "source": [
    "# Python program to demonstrate Keyword Arguments\r\n",
    "def student(firstname, lastname):\r\n",
    "\tprint(firstname, lastname)\r\n",
    "\r\n",
    "# Keyword arguments\r\n",
    "student(firstname='Geeks', lastname='Practice')\r\n",
    "student(lastname='Practice', firstname='Geeks')\r\n"
   ],
   "outputs": [
    {
     "output_type": "stream",
     "name": "stdout",
     "text": [
      "Geeks Practice\n",
      "Geeks Practice\n"
     ]
    }
   ],
   "metadata": {
    "colab": {
     "base_uri": "https://localhost:8080/"
    },
    "id": "3z06CXn9nYC-",
    "outputId": "258d0998-2f6e-41d6-89c4-805a2a161fd5"
   }
  },
  {
   "cell_type": "markdown",
   "source": [
    "## Variable-length arguments"
   ],
   "metadata": {}
  },
  {
   "cell_type": "markdown",
   "source": [
    "* In Python, we can pass a variable number of arguments to a function using special symbols. There are two special symbols:\r\n",
    "* *args (Non-Keyword Arguments)\r\n",
    "* **kwargs (Keyword Arguments)"
   ],
   "metadata": {}
  },
  {
   "cell_type": "markdown",
   "source": [
    "### Example: Variable length non-keywords argument"
   ],
   "metadata": {}
  },
  {
   "cell_type": "code",
   "execution_count": 23,
   "source": [
    "# Python program to illustrate\r\n",
    "# *args for variable number of arguments\r\n",
    "\r\n",
    "def myFun(*argv):\r\n",
    "\tfor arg in argv:\r\n",
    "\t\tprint(arg)\r\n",
    "\r\n",
    "\r\n",
    "myFun('Hello', 'Welcome', 'to', 'GeeksforGeeks')\r\n"
   ],
   "outputs": [
    {
     "output_type": "stream",
     "name": "stdout",
     "text": [
      "Hello\n",
      "Welcome\n",
      "to\n",
      "GeeksforGeeks\n"
     ]
    }
   ],
   "metadata": {
    "colab": {
     "base_uri": "https://localhost:8080/"
    },
    "id": "R0Muz1EVp4r9",
    "outputId": "2a35e459-1742-4aba-8948-2731aaf34124"
   }
  },
  {
   "cell_type": "markdown",
   "source": [
    "### Example : Variable length keyword arguments"
   ],
   "metadata": {}
  },
  {
   "cell_type": "code",
   "execution_count": 24,
   "source": [
    "# Python program to illustrate\r\n",
    "# *kargs for variable number of keyword arguments\r\n",
    "\r\n",
    "\r\n",
    "def myFun(**kwargs):\r\n",
    "\tfor key, value in kwargs.items():\r\n",
    "\t\tprint(\"%s == %s\" % (key, value))\r\n",
    "\r\n",
    "\r\n",
    "# Driver code\r\n",
    "myFun(first='Geeks', mid='for', last='Geeks')\r\n"
   ],
   "outputs": [
    {
     "output_type": "stream",
     "name": "stdout",
     "text": [
      "first == Geeks\n",
      "mid == for\n",
      "last == Geeks\n"
     ]
    }
   ],
   "metadata": {
    "colab": {
     "base_uri": "https://localhost:8080/"
    },
    "id": "XCZ7Ax0JqO2m",
    "outputId": "f322d99c-7ef2-4e36-fa0e-41d73f737ed7"
   }
  },
  {
   "cell_type": "markdown",
   "source": [
    "# Docstring"
   ],
   "metadata": {}
  },
  {
   "cell_type": "markdown",
   "source": [
    "* The first string after the function is called the Document string or Docstring in short. This is used to describe the functionality of the function. The use of docstring in functions is optional but it is considered a good practice.\r\n",
    "* The below syntax can be used to print out the docstring of a function:"
   ],
   "metadata": {}
  },
  {
   "cell_type": "code",
   "execution_count": 25,
   "source": [
    "#Syntax: print(function_name.__doc__)"
   ],
   "outputs": [],
   "metadata": {}
  },
  {
   "cell_type": "markdown",
   "source": [
    "## Adding Docstring to the function"
   ],
   "metadata": {}
  },
  {
   "cell_type": "markdown",
   "source": [
    "### Example"
   ],
   "metadata": {}
  },
  {
   "cell_type": "code",
   "execution_count": 26,
   "source": [
    "# A simple Python function to check\r\n",
    "# whether x is even or odd\r\n",
    "\r\n",
    "def evenOdd(x):\r\n",
    "\t\"\"\"Function to check if the number is even or odd\"\"\"\r\n",
    "\t\r\n",
    "\tif (x % 2 == 0):\r\n",
    "\t\tprint(\"even\")\r\n",
    "\telse:\r\n",
    "\t\tprint(\"odd\")\r\n",
    "\r\n",
    "\r\n",
    "# Driver code to call the function\r\n",
    "print(evenOdd.__doc__)\r\n"
   ],
   "outputs": [
    {
     "output_type": "stream",
     "name": "stdout",
     "text": [
      "Function to check if the number is even or odd\n"
     ]
    }
   ],
   "metadata": {
    "colab": {
     "base_uri": "https://localhost:8080/"
    },
    "id": "c6LqPmgaqsSv",
    "outputId": "3cf2fc7b-a6f6-494a-e27a-99a4635f0451"
   }
  },
  {
   "cell_type": "markdown",
   "source": [
    "# The return statement"
   ],
   "metadata": {}
  },
  {
   "cell_type": "markdown",
   "source": [
    "* The function return statement is used to exit from a function and go back to the function caller and return the specified value or data item to the caller."
   ],
   "metadata": {}
  },
  {
   "cell_type": "code",
   "execution_count": 27,
   "source": [
    "#Syntax: return [expression_list]"
   ],
   "outputs": [],
   "metadata": {}
  },
  {
   "cell_type": "markdown",
   "source": [
    "* The return statement can consist of a variable, an expression, or a constant which is returned to the end of the function execution. If none of the above is present with the return statement a None object is returned"
   ],
   "metadata": {}
  },
  {
   "cell_type": "markdown",
   "source": [
    "## Function Return Statement"
   ],
   "metadata": {}
  },
  {
   "cell_type": "markdown",
   "source": [
    "### Example"
   ],
   "metadata": {}
  },
  {
   "cell_type": "code",
   "execution_count": 28,
   "source": [
    "def square_value(num):\r\n",
    "\t\"\"\"This function returns the square\r\n",
    "\tvalue of the entered number\"\"\"\r\n",
    "\treturn num**2\r\n",
    "\r\n",
    "\r\n",
    "print(square_value(2))\r\n",
    "print(square_value(-4))\r\n"
   ],
   "outputs": [
    {
     "output_type": "stream",
     "name": "stdout",
     "text": [
      "4\n",
      "16\n"
     ]
    }
   ],
   "metadata": {
    "colab": {
     "base_uri": "https://localhost:8080/"
    },
    "id": "UPktsLLV6rPG",
    "outputId": "e7556e43-d3cf-4623-a345-d9508e36030a"
   }
  },
  {
   "cell_type": "markdown",
   "source": [
    "## Is Python Function Pass by Reference or pass by value?"
   ],
   "metadata": {}
  },
  {
   "cell_type": "markdown",
   "source": [
    "* One important thing to note is, in Python every variable name is a reference. When we pass a variable to a function, a new reference to the object is created. Parameter passing in Python is the same as reference passing in Java."
   ],
   "metadata": {}
  },
  {
   "cell_type": "markdown",
   "source": [
    "### Example"
   ],
   "metadata": {}
  },
  {
   "cell_type": "code",
   "execution_count": 29,
   "source": [
    "# Here x is a new reference to same list lst\r\n",
    "def myFun(x):\r\n",
    "\tx[0] = 20\r\n",
    "\r\n",
    "\r\n",
    "# Driver Code (Note that lst is modified after function call.\r\n",
    "lst = [10, 11, 12, 13, 14, 15]\r\n",
    "myFun(lst)\r\n",
    "print(lst)\r\n"
   ],
   "outputs": [
    {
     "output_type": "stream",
     "name": "stdout",
     "text": [
      "[20, 11, 12, 13, 14, 15]\n"
     ]
    }
   ],
   "metadata": {
    "colab": {
     "base_uri": "https://localhost:8080/"
    },
    "id": "Qe-Ga-3A7YJP",
    "outputId": "4c6f7b2c-18fd-4f8d-adad-fd7f5211379f"
   }
  },
  {
   "cell_type": "markdown",
   "source": [
    "# Anonymous functions"
   ],
   "metadata": {}
  },
  {
   "cell_type": "markdown",
   "source": [
    "* An anonymous function means that a function is without a name.\r\n",
    "* As we already know the def keyword is used to define the normal functions and the lambda keyword is used to create anonymous functions."
   ],
   "metadata": {}
  },
  {
   "cell_type": "markdown",
   "source": [
    "## Example"
   ],
   "metadata": {}
  },
  {
   "cell_type": "code",
   "execution_count": 30,
   "source": [
    "# Python code to illustrate the cube of a number\r\n",
    "# using lambda function\r\n",
    "\r\n",
    "\r\n",
    "def cube(x): return x*x*x\r\n",
    "\r\n",
    "cube_v2 = lambda x : x*x*x\r\n",
    "\r\n",
    "print(cube(7))\r\n",
    "print(cube_v2(7))\r\n"
   ],
   "outputs": [
    {
     "output_type": "stream",
     "name": "stdout",
     "text": [
      "343\n",
      "343\n"
     ]
    }
   ],
   "metadata": {
    "colab": {
     "base_uri": "https://localhost:8080/"
    },
    "id": "WdRC5p8T8qMN",
    "outputId": "fbda5334-6b44-4381-9ffa-60e1a6cc4ec4"
   }
  },
  {
   "cell_type": "markdown",
   "source": [
    "# Python Function within Functions"
   ],
   "metadata": {}
  },
  {
   "cell_type": "markdown",
   "source": [
    "* A function that is defined inside another function is known as the inner function or nested function.\r\n",
    "* Nested functions are able to access variables of the enclosing scope.\r\n",
    "* Inner functions are used so that they can be protected from everything happening outside the function"
   ],
   "metadata": {}
  },
  {
   "cell_type": "markdown",
   "source": [
    "## Example"
   ],
   "metadata": {}
  },
  {
   "cell_type": "code",
   "execution_count": 31,
   "source": [
    "# Python program to\r\n",
    "# demonstrate accessing of\r\n",
    "# variables of nested functions\r\n",
    "\r\n",
    "def f1():\r\n",
    "\ts = 'I love Python'\r\n",
    "\t\r\n",
    "\tdef f2():\r\n",
    "\t\tprint(s)\r\n",
    "\t\t\r\n",
    "\tf2()\r\n",
    "\r\n",
    "# Driver's code\r\n",
    "f1()"
   ],
   "outputs": [
    {
     "output_type": "stream",
     "name": "stdout",
     "text": [
      "I love Python\n"
     ]
    }
   ],
   "metadata": {
    "colab": {
     "base_uri": "https://localhost:8080/"
    },
    "id": "miZp1kIM9Gwo",
    "outputId": "f9436a01-ee27-4be7-d2d9-97d6feb36630"
   }
  }
 ],
 "metadata": {
  "orig_nbformat": 4,
  "language_info": {
   "name": "python",
   "version": "3.9.7",
   "mimetype": "text/x-python",
   "codemirror_mode": {
    "name": "ipython",
    "version": 3
   },
   "pygments_lexer": "ipython3",
   "nbconvert_exporter": "python",
   "file_extension": ".py"
  },
  "kernelspec": {
   "name": "python3",
   "display_name": "Python 3.9.7 64-bit (windows store)"
  },
  "interpreter": {
   "hash": "d8f557187e060b63bc23cf7a289dbcaea0ec40bb9dc2d4c53f5fd8e109d2e907"
  }
 },
 "nbformat": 4,
 "nbformat_minor": 2
}